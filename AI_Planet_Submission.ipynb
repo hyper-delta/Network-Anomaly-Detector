{
  "nbformat": 4,
  "nbformat_minor": 0,
  "metadata": {
    "colab": {
      "provenance": [],
      "authorship_tag": "ABX9TyP2+Q86TPpb+fhKZqfGSWUq",
      "include_colab_link": true
    },
    "kernelspec": {
      "name": "python3",
      "display_name": "Python 3"
    },
    "language_info": {
      "name": "python"
    }
  },
  "cells": [
    {
      "cell_type": "markdown",
      "metadata": {
        "id": "view-in-github",
        "colab_type": "text"
      },
      "source": [
        "<a href=\"https://colab.research.google.com/github/hyper-delta/Network-Anomaly-Detector/blob/main/AI_Planet_Submission.ipynb\" target=\"_parent\"><img src=\"https://colab.research.google.com/assets/colab-badge.svg\" alt=\"Open In Colab\"/></a>"
      ]
    },
    {
      "cell_type": "code",
      "execution_count": 6,
      "metadata": {
        "colab": {
          "base_uri": "https://localhost:8080/"
        },
        "id": "Rz_grTcu4JjQ",
        "outputId": "f9666340-b9ab-4ccd-ef82-80e41faaf7fd"
      },
      "outputs": [
        {
          "output_type": "stream",
          "name": "stdout",
          "text": [
            "Cross-Validation F1 Scores: [1. 1. 1. 1. 1.]\n",
            "Average Cross-Validation F1 Score: 1.0\n"
          ]
        }
      ],
      "source": [
        "import pandas as pd\n",
        "import numpy as np\n",
        "from sklearn.model_selection import cross_val_score\n",
        "from sklearn.preprocessing import StandardScaler, OneHotEncoder\n",
        "from sklearn.compose import ColumnTransformer\n",
        "from sklearn.pipeline import Pipeline\n",
        "from sklearn.ensemble import RandomForestClassifier\n",
        "\n",
        "# Load the data\n",
        "train_df = pd.read_csv(r'/content/Train_Data.csv')\n",
        "test_df = pd.read_csv(r'/content/Test_Data.csv')\n",
        "\n",
        "# Ensure no data leakage\n",
        "assert 'attack' not in test_df.columns, \"Test data should not contain the target column 'attack'\"\n",
        "\n",
        "# Check for missing values in the target column\n",
        "if train_df['attack'].isnull().sum() > 0:\n",
        "    raise ValueError(\"Target column 'attack' contains NaN values\")\n",
        "\n",
        "# Separate features and target\n",
        "X_train = train_df.drop(columns=['attack'])\n",
        "y_train = train_df['attack'].map({'normal': 0, 'neptune': 1})\n",
        "\n",
        "# Check for missing values in the features and handle them\n",
        "if X_train.isnull().sum().any():\n",
        "    X_train = X_train.fillna(X_train.median())\n",
        "\n",
        "# Identify categorical and numerical columns\n",
        "categorical_cols = ['protocoltype', 'service', 'flag', 'land', 'loggedin', 'ishostlogin', 'isguestlogin', 'lastflag']\n",
        "numerical_cols = [col for col in X_train.columns if col not in categorical_cols]\n",
        "\n",
        "# Preprocessing pipelines for both numerical and categorical data\n",
        "numerical_transformer = StandardScaler()\n",
        "categorical_transformer = OneHotEncoder(handle_unknown='ignore')\n",
        "\n",
        "# Bundle preprocessing for numerical and categorical data\n",
        "preprocessor = ColumnTransformer(\n",
        "    transformers=[\n",
        "        ('num', numerical_transformer, numerical_cols),\n",
        "        ('cat', categorical_transformer, categorical_cols)\n",
        "    ])\n",
        "\n",
        "# Define the model\n",
        "model = RandomForestClassifier(n_estimators=100, random_state=42)\n",
        "\n",
        "# Create the pipeline\n",
        "pipeline = Pipeline(steps=[('preprocessor', preprocessor),\n",
        "                           ('model', model)\n",
        "                          ])\n",
        "\n",
        "# Use cross-validation to evaluate the model\n",
        "cv_scores = cross_val_score(pipeline, X_train, y_train, cv=5, scoring='f1')\n",
        "print(f'Cross-Validation F1 Scores: {cv_scores}')\n",
        "print(f'Average Cross-Validation F1 Score: {np.mean(cv_scores)}')\n",
        "\n",
        "# Train the model on the full training set\n",
        "pipeline.fit(X_train, y_train)\n",
        "\n",
        "# Predict on the test set\n",
        "# Check for missing values in the test set and handle them\n",
        "if test_df.isnull().sum().any():\n",
        "    test_df = test_df.fillna(test_df.median())\n",
        "\n",
        "predictions = pipeline.predict(test_df)\n",
        "\n",
        "# Create submission file\n",
        "submission = pd.DataFrame({'attack': predictions})\n",
        "submission['attack'] = submission['attack'].map({0: 0, 1: 1})\n",
        "submission.to_csv('Satyarth_Gupta_submission.csv', index=False)\n"
      ]
    }
  ]
}